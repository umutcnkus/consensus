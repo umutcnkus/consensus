{
 "cells": [
  {
   "cell_type": "code",
   "execution_count": 9,
   "metadata": {},
   "outputs": [],
   "source": [
    "from scipy.integrate import odeint\n",
    "from pylab import figure, plot, xlabel, grid, hold, legend, title, savefig, show\n",
    "\n",
    "def model(w, t):\n",
    "\tx1, x2, x3 = w\n",
    "\tf = [-2*(x1-x2), -2*(x2-x3), 0]\n",
    "\treturn f\n",
    "\n",
    "x1 = 15\n",
    "x2 = 3\n",
    "x3 = 9\n",
    "\n",
    "wo = [x1, x2, x3]\n",
    "stoptime = 10.0\n",
    "numpoints = 250\n",
    "\n",
    "t = [stoptime * float(i) / (numpoints - 1) for i in range(numpoints)]\n",
    "\n",
    "sol = odeint(model, wo, t)"
   ]
  },
  {
   "cell_type": "code",
   "execution_count": 10,
   "metadata": {},
   "outputs": [],
   "source": [
    "x1 = sol[:,0]\n",
    "x2 = sol[:,1]\n",
    "x3 = sol[:,2]"
   ]
  },
  {
   "cell_type": "code",
   "execution_count": 11,
   "metadata": {},
   "outputs": [
    {
     "data": {
      "image/png": "[encoded data removed]",
      "text/plain": [
       "<matplotlib.figure.Figure at 0x11c699a58>"
      ]
     },
     "metadata": {},
     "output_type": "display_data"
    }
   ],
   "source": [
    "plot(t, x1)\n",
    "plot(t, x2)\n",
    "plot(t, x3)\n",
    "grid()\n",
    "show()"
   ]
  },
  {
   "cell_type": "code",
   "execution_count": null,
   "metadata": {
    "collapsed": true
   },
   "outputs": [],
   "source": []
  }
 ],
 "metadata": {
  "kernelspec": {
   "display_name": "Python 3",
   "language": "python",
   "name": "python3"
  },
  "language_info": {
   "codemirror_mode": {
    "name": "ipython",
    "version": 3
   },
   "file_extension": ".py",
   "mimetype": "text/x-python",
   "name": "python",
   "nbconvert_exporter": "python",
   "pygments_lexer": "ipython3",
   "version": "3.6.1"
  }
 },
 "nbformat": 4,
 "nbformat_minor": 2
}
